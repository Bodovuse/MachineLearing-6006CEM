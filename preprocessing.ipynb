{
 "cells": [
  {
   "cell_type": "code",
   "execution_count": 23,
   "metadata": {
    "collapsed": true
   },
   "outputs": [],
   "source": [
    "\"\"\"\n",
    "14 cols\n",
    "personal loan, securities account, cd account, online and credit card eithr 1 or 0\n",
    "\"\"\"\n",
    "\n",
    "import pandas as pd\n",
    "\n",
    "#load data\n",
    "cols = ['ID', 'Age', 'Experience', 'Income', 'ZIP_Code', 'Family', 'CCAvg', 'Education', 'Mortgage', 'Personal_Loan', 'Securities_Account', 'CD_Account', 'Online', 'CreditCard' ]\n",
    "df = pd.read_csv('/Users/tamzi/OneDrive/UNI/6006CEM/Coursework/CSV_Files/Bank_Personal_Loan_Modelling.csv', names = cols)\n"
   ]
  },
  {
   "cell_type": "code",
   "execution_count": 16,
   "metadata": {},
   "outputs": [
    {
     "name": "stdout",
     "output_type": "stream",
     "text": [
      "   ID  Age  Experience  Income  ZIP Code  Family  CCAvg  Education  Mortgage  \\\n",
      "0   1   25           1      49     91107       4    1.6          1         0   \n",
      "1   2   45          19      34     90089       3    1.5          1         0   \n",
      "2   3   39          15      11     94720       1    1.0          1         0   \n",
      "3   4   35           9     100     94112       1    2.7          2         0   \n",
      "4   5   35           8      45     91330       4    1.0          2         0   \n",
      "\n",
      "   Personal Loan  Securities Account  CD Account  Online  CreditCard  \n",
      "0              0                   1           0       0           0  \n",
      "1              0                   1           0       0           0  \n",
      "2              0                   0           0       0           0  \n",
      "3              0                   0           0       0           0  \n",
      "4              0                   0           0       0           1  \n"
     ]
    }
   ],
   "source": [
    "#df.info()\n",
    "print(df.head())\n"
   ]
  },
  {
   "cell_type": "code",
   "execution_count": 17,
   "metadata": {},
   "outputs": [
    {
     "data": {
      "text/plain": [
       "(5000, 14)"
      ]
     },
     "execution_count": 17,
     "metadata": {},
     "output_type": "execute_result"
    }
   ],
   "source": [
    "df.shape"
   ]
  },
  {
   "cell_type": "code",
   "execution_count": 18,
   "metadata": {},
   "outputs": [
    {
     "data": {
      "text/plain": [
       "<bound method DataFrame.info of         ID  Age  Experience  Income  ZIP Code  Family  CCAvg  Education  \\\n",
       "0        1   25           1      49     91107       4   1.60          1   \n",
       "1        2   45          19      34     90089       3   1.50          1   \n",
       "2        3   39          15      11     94720       1   1.00          1   \n",
       "3        4   35           9     100     94112       1   2.70          2   \n",
       "4        5   35           8      45     91330       4   1.00          2   \n",
       "5        6   37          13      29     92121       4   0.40          2   \n",
       "6        7   53          27      72     91711       2   1.50          2   \n",
       "7        8   50          24      22     93943       1   0.30          3   \n",
       "8        9   35          10      81     90089       3   0.60          2   \n",
       "9       10   34           9     180     93023       1   8.90          3   \n",
       "10      11   65          39     105     94710       4   2.40          3   \n",
       "11      12   29           5      45     90277       3   0.10          2   \n",
       "12      13   48          23     114     93106       2   3.80          3   \n",
       "13      14   59          32      40     94920       4   2.50          2   \n",
       "14      15   67          41     112     91741       1   2.00          1   \n",
       "15      16   60          30      22     95054       1   1.50          3   \n",
       "16      17   38          14     130     95010       4   4.70          3   \n",
       "17      18   42          18      81     94305       4   2.40          1   \n",
       "18      19   46          21     193     91604       2   8.10          3   \n",
       "19      20   55          28      21     94720       1   0.50          2   \n",
       "20      21   56          31      25     94015       4   0.90          2   \n",
       "21      22   57          27      63     90095       3   2.00          3   \n",
       "22      23   29           5      62     90277       1   1.20          1   \n",
       "23      24   44          18      43     91320       2   0.70          1   \n",
       "24      25   36          11     152     95521       2   3.90          1   \n",
       "25      26   43          19      29     94305       3   0.50          1   \n",
       "26      27   40          16      83     95064       4   0.20          3   \n",
       "27      28   46          20     158     90064       1   2.40          1   \n",
       "28      29   56          30      48     94539       1   2.20          3   \n",
       "29      30   38          13     119     94104       1   3.30          2   \n",
       "...    ...  ...         ...     ...       ...     ...    ...        ...   \n",
       "4970  4971   37          13      95     95821       2   1.70          2   \n",
       "4971  4972   58          28      73     90024       1   1.40          3   \n",
       "4972  4973   58          32      41     93401       3   2.20          3   \n",
       "4973  4974   31           1      68     95045       4   4.00          3   \n",
       "4974  4975   59          33      64     92867       4   1.70          2   \n",
       "4975  4976   38          11      29     95207       4   1.00          2   \n",
       "4976  4977   29           5      31     95039       1   1.80          2   \n",
       "4977  4978   40          15      54     90266       3   0.80          3   \n",
       "4978  4979   57          27      63     90210       4   2.00          3   \n",
       "4979  4980   50          26      92     90740       1   2.60          2   \n",
       "4980  4981   29           5     135     95762       3   5.30          1   \n",
       "4981  4982   34           9     195     90266       2   3.00          1   \n",
       "4982  4983   36          10      45     95126       4   0.20          1   \n",
       "4983  4984   51          26      72     95370       1   2.90          1   \n",
       "4984  4985   27           1      98     94043       4   2.30          3   \n",
       "4985  4986   48          23      30     94720       3   1.70          2   \n",
       "4986  4987   32           6      78     95825       1   2.90          3   \n",
       "4987  4988   48          23      43     93943       3   1.70          2   \n",
       "4988  4989   34           8      85     95134       1   2.50          1   \n",
       "4989  4990   24           0      38     93555       1   1.00          3   \n",
       "4990  4991   55          25      58     95023       4   2.00          3   \n",
       "4991  4992   51          25      92     91330       1   1.90          2   \n",
       "4992  4993   30           5      13     90037       4   0.50          3   \n",
       "4993  4994   45          21     218     91801       2   6.67          1   \n",
       "4994  4995   64          40      75     94588       3   2.00          3   \n",
       "4995  4996   29           3      40     92697       1   1.90          3   \n",
       "4996  4997   30           4      15     92037       4   0.40          1   \n",
       "4997  4998   63          39      24     93023       2   0.30          3   \n",
       "4998  4999   65          40      49     90034       3   0.50          2   \n",
       "4999  5000   28           4      83     92612       3   0.80          1   \n",
       "\n",
       "      Mortgage  Personal Loan  Securities Account  CD Account  Online  \\\n",
       "0            0              0                   1           0       0   \n",
       "1            0              0                   1           0       0   \n",
       "2            0              0                   0           0       0   \n",
       "3            0              0                   0           0       0   \n",
       "4            0              0                   0           0       0   \n",
       "5          155              0                   0           0       1   \n",
       "6            0              0                   0           0       1   \n",
       "7            0              0                   0           0       0   \n",
       "8          104              0                   0           0       1   \n",
       "9            0              1                   0           0       0   \n",
       "10           0              0                   0           0       0   \n",
       "11           0              0                   0           0       1   \n",
       "12           0              0                   1           0       0   \n",
       "13           0              0                   0           0       1   \n",
       "14           0              0                   1           0       0   \n",
       "15           0              0                   0           0       1   \n",
       "16         134              1                   0           0       0   \n",
       "17           0              0                   0           0       0   \n",
       "18           0              1                   0           0       0   \n",
       "19           0              0                   1           0       0   \n",
       "20         111              0                   0           0       1   \n",
       "21           0              0                   0           0       1   \n",
       "22         260              0                   0           0       1   \n",
       "23         163              0                   1           0       0   \n",
       "24         159              0                   0           0       0   \n",
       "25          97              0                   0           0       1   \n",
       "26           0              0                   0           0       0   \n",
       "27           0              0                   0           0       1   \n",
       "28           0              0                   0           0       1   \n",
       "29           0              1                   0           1       1   \n",
       "...        ...            ...                 ...         ...     ...   \n",
       "4970         0              0                   0           0       0   \n",
       "4971         0              0                   1           0       0   \n",
       "4972       148              0                   0           0       1   \n",
       "4973         0              0                   0           0       1   \n",
       "4974         0              0                   0           0       0   \n",
       "4975         0              0                   0           0       1   \n",
       "4976         0              0                   0           0       1   \n",
       "4977         0              0                   0           0       1   \n",
       "4978         0              0                   0           0       1   \n",
       "4979       213              0                   0           0       0   \n",
       "4980         0              1                   0           1       1   \n",
       "4981       122              0                   0           0       1   \n",
       "4982         0              0                   0           0       0   \n",
       "4983         0              0                   0           0       0   \n",
       "4984         0              0                   0           0       0   \n",
       "4985       162              0                   0           0       1   \n",
       "4986         0              0                   0           0       0   \n",
       "4987       159              0                   0           0       1   \n",
       "4988       136              0                   0           0       0   \n",
       "4989         0              0                   0           0       1   \n",
       "4990       219              0                   0           0       0   \n",
       "4991       100              0                   0           0       0   \n",
       "4992         0              0                   0           0       0   \n",
       "4993         0              0                   0           0       1   \n",
       "4994         0              0                   0           0       1   \n",
       "4995         0              0                   0           0       1   \n",
       "4996        85              0                   0           0       1   \n",
       "4997         0              0                   0           0       0   \n",
       "4998         0              0                   0           0       1   \n",
       "4999         0              0                   0           0       1   \n",
       "\n",
       "      CreditCard  \n",
       "0              0  \n",
       "1              0  \n",
       "2              0  \n",
       "3              0  \n",
       "4              1  \n",
       "5              0  \n",
       "6              0  \n",
       "7              1  \n",
       "8              0  \n",
       "9              0  \n",
       "10             0  \n",
       "11             0  \n",
       "12             0  \n",
       "13             0  \n",
       "14             0  \n",
       "15             1  \n",
       "16             0  \n",
       "17             0  \n",
       "18             0  \n",
       "19             1  \n",
       "20             0  \n",
       "21             0  \n",
       "22             0  \n",
       "23             0  \n",
       "24             1  \n",
       "25             0  \n",
       "26             0  \n",
       "27             1  \n",
       "28             1  \n",
       "29             1  \n",
       "...          ...  \n",
       "4970           1  \n",
       "4971           0  \n",
       "4972           1  \n",
       "4973           0  \n",
       "4974           1  \n",
       "4975           0  \n",
       "4976           1  \n",
       "4977           0  \n",
       "4978           0  \n",
       "4979           1  \n",
       "4980           1  \n",
       "4981           0  \n",
       "4982           1  \n",
       "4983           0  \n",
       "4984           1  \n",
       "4985           0  \n",
       "4986           0  \n",
       "4987           0  \n",
       "4988           1  \n",
       "4989           0  \n",
       "4990           1  \n",
       "4991           1  \n",
       "4992           0  \n",
       "4993           0  \n",
       "4994           0  \n",
       "4995           0  \n",
       "4996           0  \n",
       "4997           0  \n",
       "4998           0  \n",
       "4999           1  \n",
       "\n",
       "[5000 rows x 14 columns]>"
      ]
     },
     "execution_count": 18,
     "metadata": {},
     "output_type": "execute_result"
    }
   ],
   "source": [
    "df.info"
   ]
  },
  {
   "cell_type": "code",
   "execution_count": 24,
   "metadata": {},
   "outputs": [
    {
     "data": {
      "text/plain": [
       "False"
      ]
     },
     "execution_count": 24,
     "metadata": {},
     "output_type": "execute_result"
    }
   ],
   "source": [
    "#df.dtypes\n",
    "#check if any values in dataset are NaN and remove those rows\n",
    "\n",
    "df.dropna(axis=0, inplace=True)\n",
    "df.isnull().values.any()"
   ]
  },
  {
   "cell_type": "code",
   "execution_count": 20,
   "metadata": {},
   "outputs": [
    {
     "data": {
      "text/plain": [
       "ID                    5000\n",
       "Age                     45\n",
       "Experience              47\n",
       "Income                 162\n",
       "ZIP Code               467\n",
       "Family                   4\n",
       "CCAvg                  108\n",
       "Education                3\n",
       "Mortgage               347\n",
       "Personal Loan            2\n",
       "Securities Account       2\n",
       "CD Account               2\n",
       "Online                   2\n",
       "CreditCard               2\n",
       "dtype: int64"
      ]
     },
     "execution_count": 20,
     "metadata": {},
     "output_type": "execute_result"
    }
   ],
   "source": [
    "df.nunique()"
   ]
  },
  {
   "cell_type": "code",
   "execution_count": 21,
   "metadata": {},
   "outputs": [],
   "source": [
    "#export entire processed data to new csv file\n",
    "pro_data = 'CSV_files/Pro_Bank_Personal_Loan_Modelling.csv'\n",
    "\n",
    "df.to_csv(pro_data, index=False)"
   ]
  },
  {
   "cell_type": "code",
   "execution_count": 26,
   "metadata": {},
   "outputs": [],
   "source": [
    "#export just binary data to a new csv file\n",
    "binary_data = 'CSV_files/Binary_Bank_Personal_Loan_Modelling.csv'\n",
    "\n",
    "bdf = df[['CD_Account', 'Securities_Account', 'Online', 'CreditCard']]\n",
    "bdf.to_csv(binary_data, index=False)"
   ]
  },
  {
   "cell_type": "code",
   "execution_count": 27,
   "metadata": {
    "collapsed": true
   },
   "outputs": [],
   "source": [
    "#export just numerical data to a new csv file\n",
    "numerical_data = 'CSV_files/Numerical_Bank_Personal_Loan_Modelling.csv'\n",
    "\n",
    "ndf = df[['ID', 'Age', 'Experience', 'Income', 'ZIP_Code', 'CCAvg', 'Mortgage']]\n",
    "ndf.to_csv(numerical_data, index=False)"
   ]
  },
  {
   "cell_type": "code",
   "execution_count": 28,
   "metadata": {
    "collapsed": true
   },
   "outputs": [],
   "source": [
    "#export just clarification data to a new csv file\n",
    "clarification_data = 'CSV_files/Clarification_Bank_Personal_Loan_Modelling.csv'\n",
    "\n",
    "cdf = df[['Education', 'Family']]\n",
    "cdf.to_csv(clarification_data, index=False)"
   ]
  },
  {
   "cell_type": "code",
   "execution_count": null,
   "metadata": {
    "collapsed": true
   },
   "outputs": [],
   "source": []
  }
 ],
 "metadata": {
  "kernelspec": {
   "display_name": "Python 3",
   "language": "python",
   "name": "python3"
  },
  "language_info": {
   "codemirror_mode": {
    "name": "ipython",
    "version": 3
   },
   "file_extension": ".py",
   "mimetype": "text/x-python",
   "name": "python",
   "nbconvert_exporter": "python",
   "pygments_lexer": "ipython3",
   "version": "3.6.1"
  }
 },
 "nbformat": 4,
 "nbformat_minor": 2
}
